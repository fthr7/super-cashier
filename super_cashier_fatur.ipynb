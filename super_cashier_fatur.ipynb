{
  "nbformat": 4,
  "nbformat_minor": 0,
  "metadata": {
    "colab": {
      "provenance": [],
      "authorship_tag": "ABX9TyMxXoqyVTie7PRihkj7wvTo",
      "include_colab_link": true
    },
    "kernelspec": {
      "name": "python3",
      "display_name": "Python 3"
    },
    "language_info": {
      "name": "python"
    }
  },
  "cells": [
    {
      "cell_type": "markdown",
      "metadata": {
        "id": "view-in-github",
        "colab_type": "text"
      },
      "source": [
        "<a href=\"https://colab.research.google.com/github/fthr7/super-cashier/blob/main/super_cashier_fatur.ipynb\" target=\"_parent\"><img src=\"https://colab.research.google.com/assets/colab-badge.svg\" alt=\"Open In Colab\"/></a>"
      ]
    },
    {
      "cell_type": "code",
      "execution_count": null,
      "metadata": {
        "id": "n9QdRImZ9GgV"
      },
      "outputs": [],
      "source": [
        "# import menu\n",
        "\n",
        "\n",
        "\n",
        "# pertama fungsi ini dilakukan untuk menginisialisasi variabel\n",
        "# item yang akan digunakan oleh user\n",
        "class Transaction:\n",
        "    def __init__(self):\n",
        "        self.items = []\n",
        "        self.total = 0\n",
        "# fungsi ini digunakan untuk menambahkan item ke dalam transaksi\n",
        "    def add_item(self, item):\n",
        "        self.items.append(item)\n",
        "        self.total += item[1] * item[2]\n",
        "# fungsi ini digunakan untuk mengubah nama item pada transaksi\n",
        "    def update_item_name(self, old_name, new_name):\n",
        "        for item in self.items:\n",
        "            if item[0] == old_name:\n",
        "                item[0] = new_name\n",
        "# fungsi ini digunakan untuk mengubah jumlah item pada transaksi\n",
        "    def update_item_qty(self, name, qty):\n",
        "        for item in self.items:\n",
        "            if item[0] == name:\n",
        "                old_qty = item[1]\n",
        "                item[1] = qty\n",
        "                self.total += (qty - old_qty) * item[2]\n",
        "# fungsi ini digunakan untuk mengubah harga per item               \n",
        "    def update_item_price(self, name, price):\n",
        "        for item in self.items:\n",
        "            if item[0] == name:\n",
        "                old_price = item[2]\n",
        "                item[2] = price\n",
        "                self.total += (price - old_price) * item[1]\n",
        "# fungsi ini digunakan untuk menghapus item dari transaksi                \n",
        "    def delete_item(self, name):\n",
        "        for item in self.items:\n",
        "            if item[0] == name:\n",
        "                self.total -= item[1] * item[2]\n",
        "                self.items.remove(item)\n",
        "# fungsi ini  digunakan untuk menghapus semua item dari transaksi \n",
        "# dan mengatur total harga menjadi 0              \n",
        "    def reset_transaction(self):\n",
        "        self.items = []\n",
        "        self.total = 0\n",
        "# fungsi ini digunakan untuk memeriksa apakah \n",
        "# data input item pada transaksi sudah benar\n",
        "# dan kemudian memanggil fungsi show_transaction()     \n",
        "    def check_order(self):\n",
        "        for item in self.items:\n",
        "            if len(item) != 3:\n",
        "                print(\"Terdapat kesalahan input data\")\n",
        "                return\n",
        "        print(\"Pemesanan sudah benar\")\n",
        "        self.show_transaction()\n",
        "# fungsi ini digunakan untuk menampilkan seluruh item pada transaksi \n",
        "# beserta dengan nomor urut, nama item, jumlah item, harga per item, \n",
        "# dan total harga.        \n",
        "    def show_transaction(self):\n",
        "        print(\"| No | Nama Item | Jumlah Item | Harga/Item | Total Harga |\")\n",
        "        print(\"|----|-----------|-------------|------------|-------------|\")\n",
        "        for i, item in enumerate(self.items):\n",
        "            print(f\"| {i+1:<2} | {item[0]:<9} | {item[1]:^11} | {item[2]:^10} | {item[1]*item[2]:^11} |\")\n",
        "# fungsi ini digunakan untuk menghitung total harga belanjaan dari \n",
        "# transaksi, serta menampilkan diskon dan total yang harus dibayar \n",
        "# berdasarkan total harga yang telah dihitung           \n",
        "    def total_price(self):\n",
        "        if self.total >= 500000:\n",
        "            discount = 0.1\n",
        "        elif self.total >= 300000:\n",
        "            discount = 0.08\n",
        "        elif self.total >= 200000:\n",
        "            discount = 0.05\n",
        "        else:\n",
        "            discount = 0\n",
        "        discounted_total = self.total * (1 - discount)\n",
        "        print(f\"Total belanja: {self.total}\")\n",
        "        print(f\"Diskon: {discount*100:.0f}%\")\n",
        "        print(f\"Total yang harus dibayar: {discounted_total}\")\n"
      ]
    }
  ]
}